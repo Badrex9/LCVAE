{
 "cells": [
  {
   "cell_type": "code",
   "execution_count": 2,
   "id": "b7cd7750",
   "metadata": {},
   "outputs": [
    {
     "name": "stdout",
     "output_type": "stream",
     "text": [
      "Original shape: (2827876, 79)\n"
     ]
    },
    {
     "ename": "",
     "evalue": "",
     "output_type": "error",
     "traceback": [
      "\u001b[1;31mThe Kernel crashed while executing code in the current cell or a previous cell. \n",
      "\u001b[1;31mPlease review the code in the cell(s) to identify a possible cause of the failure. \n",
      "\u001b[1;31mClick <a href='https://aka.ms/vscodeJupyterKernelCrash'>here</a> for more info. \n",
      "\u001b[1;31mView Jupyter <a href='command:jupyter.viewOutput'>log</a> for further details."
     ]
    }
   ],
   "source": [
    "import numpy as np\n",
    "import pandas as pd\n",
    "from sklearn.preprocessing import LabelEncoder\n",
    "import joblib\n",
    "import tensorflow as tf\n",
    "from lcvae import LCVAE\n",
    "\n",
    "# ==========================\n",
    "# Load and preprocess the full NSL-KDD dataset\n",
    "# ==========================\n",
    "data = pd.read_csv('./dataset/cicids2017_clean_all_labels.csv')\n",
    "print('Original shape:', data.shape)\n",
    "\n",
    "X = data.drop(columns=['target'])\n",
    "y = data['target']\n",
    "\n",
    "# Apply fitted transformer\n",
    "tdt = joblib.load(\"./typed_cicids2017_all_features.pkl\")\n",
    "X_encoded = tdt.transform(data)\n",
    "\n",
    "# Encode labels\n",
    "encoder_label = LabelEncoder()\n",
    "y_encoded = encoder_label.fit_transform(y)\n",
    "\n",
    "# ==========================\n",
    "# Training parameters\n",
    "# ==========================\n",
    "latent_dim = 128\n",
    "batch_size = 128\n",
    "epochs = 20\n",
    "k = 40\n",
    "lambda_kl = 0.05\n",
    "input_dim = X_encoded.shape[1]\n",
    "n_classes = len(np.unique(y_encoded))\n",
    "\n",
    "# ==========================\n",
    "# Prepare LCVAE and dataset\n",
    "# ==========================\n",
    "model = LCVAE(\n",
    "    input_dim=input_dim,\n",
    "    latent_dim=latent_dim,\n",
    "    n_classes=n_classes,\n",
    "    lambda_kl=lambda_kl,\n",
    "    k=k,\n",
    "    batch_size=batch_size\n",
    ")\n",
    "model.build_clustering(X_encoded, y_encoded)\n",
    "\n",
    "# TensorFlow dataset\n",
    "X_tf = tf.convert_to_tensor(X_encoded, dtype=tf.float32)\n",
    "Y_tf = tf.convert_to_tensor(y_encoded, dtype=tf.int32)\n",
    "train_dataset = tf.data.Dataset.from_tensor_slices((X_tf, Y_tf)).shuffle(1000).batch(batch_size)\n",
    "\n",
    "# ==========================\n",
    "# Train the model\n",
    "# ==========================\n",
    "optimizer = tf.keras.optimizers.Adam(learning_rate=5e-4)\n",
    "model.train(train_dataset, optimizer=optimizer, epochs=epochs)\n",
    "\n",
    "# Trigger a dummy forward pass to ensure model is \"built\"\n",
    "_ = model(tf.convert_to_tensor(X_encoded[:1], dtype=tf.float32))\n",
    "\n",
    "# ==========================\n",
    "# Save weights and learned latent parameters\n",
    "# ==========================\n",
    "model.save_weights(\"./models_training/lcvae_weights_cicids.weights.h5\")\n",
    "np.save(\"./models_training/cluster_centers_cicids.npy\", model.cluster_centers.numpy())\n",
    "np.save(\"./models_training/sigma_per_class_cicids.npy\", model.sigma2_per_class.numpy())\n"
   ]
  }
 ],
 "metadata": {
  "kernelspec": {
   "display_name": "venv",
   "language": "python",
   "name": "python3"
  },
  "language_info": {
   "codemirror_mode": {
    "name": "ipython",
    "version": 3
   },
   "file_extension": ".py",
   "mimetype": "text/x-python",
   "name": "python",
   "nbconvert_exporter": "python",
   "pygments_lexer": "ipython3",
   "version": "3.12.3"
  }
 },
 "nbformat": 4,
 "nbformat_minor": 5
}
